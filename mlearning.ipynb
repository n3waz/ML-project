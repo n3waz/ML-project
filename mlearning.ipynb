{
 "cells": [
  {
   "cell_type": "code",
   "execution_count": null,
   "metadata": {},
   "outputs": [],
   "source": [
    "import pandas as pd\n",
    "\n",
    "# inicia o DataFrame do CSV e mostra ele\n",
    "df = pd.read_csv(\"pizzas.csv\")\n",
    "df"
   ]
  },
  {
   "cell_type": "code",
   "execution_count": null,
   "metadata": {},
   "outputs": [],
   "source": [
    "# print(df.columns)\n",
    "\n",
    "# apresenta o gráfico relacionado ao DataFrame\n",
    "df.columns = df.columns.str.strip()\n",
    "df.plot(kind=\"scatter\", x=\"diametro\", y=\"preco\");"
   ]
  },
  {
   "cell_type": "code",
   "execution_count": null,
   "metadata": {},
   "outputs": [],
   "source": [
    "# aplicando a função de Regressão Linear com o sklearn :)\n",
    "from sklearn import linear_model\n",
    "\n",
    "modelo = linear_model.LinearRegression()\n",
    "# coloca dois colchetes pra deixar no formato de DataFrame\n",
    "x = df[[\"diametro\"]]\n",
    "y = df[[\"preco\"]]\n",
    "\n",
    "# treinando o modelo com x e y\n",
    "modelo.fit(x, y)"
   ]
  },
  {
   "cell_type": "code",
   "execution_count": null,
   "metadata": {},
   "outputs": [],
   "source": [
    "# fazendo a previsão com o modelo pós ser treinado\n",
    "# valor de um diametro passado, tem um preco que será retornado\n",
    "\n",
    "# retorno se ficar assim modelo.predict([[30]]) -> array([[75.]])\n",
    "# retorno se ficar assim modelo.predict([[30]])[0] -> array([75.]) \"quebrou um colchete do array\"\n",
    "\n",
    "# retorno desejado\n",
    "print(modelo.predict([[30]])[0][0])\n"
   ]
  }
 ],
 "metadata": {
  "kernelspec": {
   "display_name": "project-ml-ut8cDIME-py3.12",
   "language": "python",
   "name": "python3"
  },
  "language_info": {
   "codemirror_mode": {
    "name": "ipython",
    "version": 3
   },
   "file_extension": ".py",
   "mimetype": "text/x-python",
   "name": "python",
   "nbconvert_exporter": "python",
   "pygments_lexer": "ipython3",
   "version": "3.12.6"
  }
 },
 "nbformat": 4,
 "nbformat_minor": 2
}
